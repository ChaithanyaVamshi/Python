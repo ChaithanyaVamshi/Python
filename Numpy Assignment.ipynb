{
 "cells": [
  {
   "cell_type": "raw",
   "metadata": {},
   "source": [
    "1.Write a function to find moving average in an array over a window: Test it over [3, 5, 7, 2, 8, 10, 11, 65, 72, 81, 99, 100, 150] and window of 3."
   ]
  },
  {
   "cell_type": "code",
   "execution_count": 4,
   "metadata": {},
   "outputs": [],
   "source": [
    "def move_val(mylist, N):\n",
    "    sum, moving_aves = [0], []\n",
    "    for i, x in enumerate(mylist, 1):\n",
    "        sum.append(sum[i-1] + x) \n",
    "        if i>=N:\n",
    "            moving_ave = round(((sum[i] - sum[i-N])/N),2) \n",
    "            moving_aves.append(moving_ave) \n",
    "    print(\"Moving average values list: \", moving_aves)\n",
    "    print(\"Length of the list l-N+1: \", len(moving_aves))"
   ]
  },
  {
   "cell_type": "code",
   "execution_count": 5,
   "metadata": {},
   "outputs": [
    {
     "name": "stdout",
     "output_type": "stream",
     "text": [
      "Moving average values list:  [25.0, 35.0, 45.0, 55.0, 65.0, 75.0, 85.0]\n",
      "Length of the list l-N+1:  7\n"
     ]
    }
   ],
   "source": [
    "mylist = [10, 20, 30, 40, 50, 60, 70, 80, 90, 100]\n",
    "N = 4\n",
    "move_val(mylist,N)"
   ]
  },
  {
   "cell_type": "code",
   "execution_count": 6,
   "metadata": {},
   "outputs": [
    {
     "name": "stdout",
     "output_type": "stream",
     "text": [
      "Moving average values list:  [5.0, 4.67, 5.67, 6.67, 9.67, 28.67, 49.33, 72.67, 84.0, 93.33, 116.33]\n",
      "Length of the list l-N+1:  11\n"
     ]
    }
   ],
   "source": [
    "mylist = [3, 5, 7, 2, 8, 10, 11, 65, 72, 81, 99, 100, 150]\n",
    "N = 3\n",
    "\n",
    "move_val(mylist,N)"
   ]
  }
 ],
 "metadata": {
  "kernelspec": {
   "display_name": "Python 3",
   "language": "python",
   "name": "python3"
  },
  "language_info": {
   "codemirror_mode": {
    "name": "ipython",
    "version": 3
   },
   "file_extension": ".py",
   "mimetype": "text/x-python",
   "name": "python",
   "nbconvert_exporter": "python",
   "pygments_lexer": "ipython3",
   "version": "3.7.6"
  }
 },
 "nbformat": 4,
 "nbformat_minor": 4
}
