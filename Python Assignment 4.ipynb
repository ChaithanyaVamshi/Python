{
 "cells": [
  {
   "cell_type": "raw",
   "metadata": {},
   "source": [
    "1. Write a Python Program(with class concepts) to find the area of the triangle using the below formula \n",
    "area = (s*(s-a)*(s-b)*(s-c)) ** 0.5\n",
    "Function to take the length of the sides of triangle from user should be defined in the parent class and function to \n",
    "calculate the area should be defined in subclass."
   ]
  },
  {
   "cell_type": "code",
   "execution_count": 6,
   "metadata": {},
   "outputs": [
    {
     "name": "stdout",
     "output_type": "stream",
     "text": [
      "Enter the value of the first side:2\n",
      "Enter the value of the second side:2\n",
      "Enter the value of the third side:2\n",
      "1.7320508075688772\n"
     ]
    }
   ],
   "source": [
    "a = int(input(\"Enter the value of the first side:\"))\n",
    "b = int(input(\"Enter the value of the second side:\"))\n",
    "c = int(input(\"Enter the value of the third side:\"))\n",
    "\n",
    "\n",
    "class triangle():\n",
    "    def __init__(self, a, b, c):\n",
    "        self.a = a\n",
    "        self.b = b\n",
    "        self.c = c\n",
    "\n",
    "    def area(self):\n",
    "        s = (a + b + c) / 2\n",
    "        area = (s * (s - a) * (s - b) * (s - c)) ** 0.5\n",
    "        return area\n",
    "\n",
    "t = triangle(a,b,c)\n",
    "print(t.area())"
   ]
  },
  {
   "cell_type": "raw",
   "metadata": {},
   "source": [
    "2. Write a function filter_long_words() that takes a list of words and an integer n and returns the list of words \n",
    "that are longer than n."
   ]
  },
  {
   "cell_type": "code",
   "execution_count": 31,
   "metadata": {},
   "outputs": [
    {
     "name": "stdout",
     "output_type": "stream",
     "text": [
      "['Good Morning', 'Welcome']\n"
     ]
    }
   ],
   "source": [
    "def filter_long_words(list,n):\n",
    "    words = []\n",
    "    for word in list:\n",
    "        if len(word)>n:\n",
    "            words.append(word)\n",
    "    return (words)\n",
    "print(filter_long_words(['Hello','Good Morning','Welcome'],5))"
   ]
  },
  {
   "cell_type": "raw",
   "metadata": {},
   "source": [
    "3. Write a Python program using function concept that maps list of words into a list of integers representing the lengths of the corresponding words."
   ]
  },
  {
   "cell_type": "code",
   "execution_count": 45,
   "metadata": {},
   "outputs": [
    {
     "name": "stdout",
     "output_type": "stream",
     "text": [
      "[5, 12, 7]\n"
     ]
    }
   ],
   "source": [
    "wordlist = ['Hello','Good Morning','Welcome']\n",
    "def wordlengths(words):\n",
    "    return map(len, words)\n",
    "print(list(wordlengths(wordlist)))"
   ]
  },
  {
   "cell_type": "raw",
   "metadata": {},
   "source": [
    "4. Write a Python function which takes a character (i.e. a string of length 1) and returns True if it is a vowel, False otherwise.\n"
   ]
  },
  {
   "cell_type": "code",
   "execution_count": 63,
   "metadata": {},
   "outputs": [
    {
     "name": "stdout",
     "output_type": "stream",
     "text": [
      "Enter the character: e\n",
      "character is Vowel\n"
     ]
    }
   ],
   "source": [
    "def vowel (inputChar):\n",
    "    if (inputChar == \"a\" or inputChar == \"A\" or inputChar == \"e\" or \n",
    "        inputChar == \"E\" or inputChar == \"i\" or inputChar == \"I\" or\n",
    "        inputChar == \"o\" or inputChar == \"O\" or inputChar == \"u\" or inputChar == \"U\"):\n",
    "        return True\n",
    "    else:\n",
    "        return False\n",
    "    \n",
    "inputChar = input(\"Enter the character: \")\n",
    "\n",
    "if vowel(inputChar) == True:\n",
    "    print(\"character is Vowel\")\n",
    "else:\n",
    "    print(\"character is not Vowel\")"
   ]
  }
 ],
 "metadata": {
  "kernelspec": {
   "display_name": "Python 3",
   "language": "python",
   "name": "python3"
  },
  "language_info": {
   "codemirror_mode": {
    "name": "ipython",
    "version": 3
   },
   "file_extension": ".py",
   "mimetype": "text/x-python",
   "name": "python",
   "nbconvert_exporter": "python",
   "pygments_lexer": "ipython3",
   "version": "3.7.6"
  }
 },
 "nbformat": 4,
 "nbformat_minor": 4
}
